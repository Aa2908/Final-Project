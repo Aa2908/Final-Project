{
 "cells": [
  {
   "cell_type": "code",
   "execution_count": 12,
   "id": "db1a9337",
   "metadata": {},
   "outputs": [
    {
     "name": "stdout",
     "output_type": "stream",
     "text": [
      "How many pizzas ordered? 4\n",
      "Is delivery required? (Yes/No): no\n",
      "Is it Tuesday? (Yes/No): yes\n",
      "Did the customer use the app? (Yes/No): yes\n",
      "Total Price: £18.00\n"
     ]
    }
   ],
   "source": [
    "def bpp_pizza_price_calculator():\n",
    "    while True:\n",
    "        try:\n",
    "            order = int(input(\"How many pizzas ordered? \"))\n",
    "            if order <= 0:\n",
    "                print(\"Please enter a positive integer.\")\n",
    "            else:\n",
    "                break\n",
    "        except ValueError:\n",
    "            print(\"Please enter a valid number.\")\n",
    "\n",
    "    delivery = input(\"Is delivery required? (Yes/No): \").lower()\n",
    "    while delivery not in ['yes', 'no']:\n",
    "        print(\"Please enter 'Yes' or 'No'.\")\n",
    "        delivery = input(\"Is delivery required? (Yes/No): \").lower()\n",
    "\n",
    "    tuesday = input(\"Is it Tuesday? (Yes/No): \").lower()\n",
    "    while tuesday not in [\"yes\", \"no\"]:\n",
    "        print(\"Please enter 'Yes' or 'No'.\")\n",
    "        tuesday = input(\"Is it Tuesday? (Yes/No): \").lower()\n",
    "\n",
    "    app_used = input(\"Did the customer use the app? (Yes/No): \").lower()\n",
    "    while app_used not in [\"yes\", \"no\"]:\n",
    "        print(\"Please enter 'Yes' or 'No'.\")\n",
    "        app_used = input(\"Did the customer use the app? (Yes/No): \").lower()\n",
    "\n",
    "    pizza_price = 12\n",
    "    delivery_cost = 2.50\n",
    "    total_pizza_cost = pizza_price * order\n",
    "    total_cost = total_pizza_cost\n",
    "\n",
    "    if delivery == \"yes\":\n",
    "        if order >= 5:\n",
    "            delivery_cost = 0  # Free delivery for orders of 5 or more pizzas\n",
    "        total_cost += delivery_cost\n",
    "\n",
    "    if tuesday == \"yes\":\n",
    "        total_cost *= 0.5  # 50% discount on Tuesdays\n",
    "\n",
    "    if app_used == \"yes\" :\n",
    "        total_cost *= 0.75  # 25% additional discount for app users\n",
    "\n",
    "    print(f'Total Price: £{total_cost:.2f}')\n",
    "\n",
    "bpp_pizza_price_calculator()"
   ]
  },
  {
   "cell_type": "code",
   "execution_count": null,
   "id": "451a3b02",
   "metadata": {},
   "outputs": [],
   "source": []
  },
  {
   "cell_type": "code",
   "execution_count": null,
   "id": "4acf9c65",
   "metadata": {},
   "outputs": [],
   "source": []
  }
 ],
 "metadata": {
  "kernelspec": {
   "display_name": "Python 3 (ipykernel)",
   "language": "python",
   "name": "python3"
  },
  "language_info": {
   "codemirror_mode": {
    "name": "ipython",
    "version": 3
   },
   "file_extension": ".py",
   "mimetype": "text/x-python",
   "name": "python",
   "nbconvert_exporter": "python",
   "pygments_lexer": "ipython3",
   "version": "3.10.9"
  }
 },
 "nbformat": 4,
 "nbformat_minor": 5
}
